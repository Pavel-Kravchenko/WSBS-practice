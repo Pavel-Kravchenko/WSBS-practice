{
 "cells": [
  {
   "cell_type": "code",
   "execution_count": 17,
   "metadata": {},
   "outputs": [
    {
     "name": "stdout",
     "output_type": "stream",
     "text": [
      "None\n"
     ]
    }
   ],
   "source": [
    "# This example script demonstrates how to evolve according to a simple nucleotide model. All model parameters are default: equal mutation rates and equal equilibrium frequencies (e.g. JC69 model).\n",
    "\n",
    "import pyvolve\n",
    "\n",
    "# Define a phylogeny, from a file containing a newick tree\n",
    "my_tree = pyvolve.read_tree(file = \"/home/pavel/Desktop/Work/Simulation/Arenicola_marina.tre\")\n",
    "#print(my_tree)\n",
    "\n",
    "\n",
    "# Define a nucleotide model, as a pyvolve.Model object.\n",
    "my_model = pyvolve.Model(\"nucleotide\")\n",
    "\n",
    "# Assign the model to a pyvolve.Partition. The size argument indicates to evolve 250 positions\n",
    "my_partition = pyvolve.Partition(models = my_model, size = 250)\n",
    "\n",
    "# Evolve!\n",
    "my_evolver = pyvolve.Evolver(partitions = my_partition, tree = my_tree)\n",
    "my_evolver()\n",
    "\n",
    "my_evolver(write_anc = True)\n",
    "\n",
    "my_evolver(seqfile = \"my_seqs.fasta\", seqfmt = \"fasta\", ratefile = None, infofile = None)\n"
   ]
  }
 ],
 "metadata": {
  "kernelspec": {
   "display_name": "Python 3",
   "language": "python",
   "name": "python3"
  },
  "language_info": {
   "codemirror_mode": {
    "name": "ipython",
    "version": 3
   },
   "file_extension": ".py",
   "mimetype": "text/x-python",
   "name": "python",
   "nbconvert_exporter": "python",
   "pygments_lexer": "ipython3",
   "version": "3.6.5"
  }
 },
 "nbformat": 4,
 "nbformat_minor": 2
}
