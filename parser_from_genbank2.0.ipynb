{
 "cells": [
  {
   "cell_type": "code",
   "execution_count": 1,
   "metadata": {},
   "outputs": [],
   "source": [
    "from Bio import Entrez\n",
    "from Bio import SeqIO\n",
    "from Bio.SeqRecord import SeqRecord\n",
    "import time\n",
    "import re\n",
    "import os\n",
    "import pickle\n",
    "\n",
    "Entrez.email = \"something@something.com\"    \n",
    "directory = os.getcwd() # setting working directory"
   ]
  },
  {
   "cell_type": "code",
   "execution_count": 2,
   "metadata": {},
   "outputs": [],
   "source": [
    "def get_key(d, value):  # a module to look throught a dictionary values\n",
    "    for k, v in d.items():\n",
    "        if v == value:\n",
    "            return k\n",
    "\n",
    "def save_obj(obj, name ):   # we have to store big dictionaries that take a lot of machine time\n",
    "    with open(name + '.pkl', 'wb') as f:\n",
    "        pickle.dump(obj, f, pickle.HIGHEST_PROTOCOL)\n",
    "\n",
    "\n",
    "def load_obj(name):  # and load them\n",
    "    with open(name + '.pkl', 'rb') as f:\n",
    "        return pickle.load(f)\n",
    "    \n",
    "len_fasta_out_file = 60\n",
    "def module_fasta_writer(out_file, line):  # this module writes in fasta format by 60 nums in each line\n",
    "    start_point = 0\n",
    "    end_point = len_fasta_out_file\n",
    "    if len(line) > len_fasta_out_file:\n",
    "        len_line = len(line)\n",
    "        while len_line > 0:\n",
    "            j = line[start_point:end_point]\n",
    "            len_line = len_line - len_fasta_out_file\n",
    "            out_file.write(j + \"\\n\")\n",
    "            start_point = start_point + len_fasta_out_file\n",
    "            end_point = end_point + len_fasta_out_file\n",
    "    else:\n",
    "        out_file.write(line + \"\\n\")"
   ]
  },
  {
   "cell_type": "code",
   "execution_count": 49,
   "metadata": {},
   "outputs": [],
   "source": [
    "gene_to_find = \"CO1[gene]\" # setting the gene of the interest 1"
   ]
  },
  {
   "cell_type": "code",
   "execution_count": null,
   "metadata": {},
   "outputs": [],
   "source": [
    "CYTB\n",
    "CO1\n",
    "16S"
   ]
  },
  {
   "cell_type": "code",
   "execution_count": 25,
   "metadata": {
    "scrolled": true
   },
   "outputs": [],
   "source": [
    "handle = Entrez.esearch(db = \"nucleotide\", term = gene_to_find, RetMax = 100000)  # making a handle of ids\n",
    "record = Entrez.read(handle)\n",
    "#print(\"Seq names:\", record[\"IdList\"])\n",
    "#print(\"\")\n",
    "#print(\"Total:\", record[\"Count\"])\n",
    "gi_list = record[\"IdList\"]  # making a list from the handle"
   ]
  },
  {
   "cell_type": "code",
   "execution_count": 26,
   "metadata": {
    "scrolled": true
   },
   "outputs": [],
   "source": [
    "gi_list = record[\"IdList\"]\n",
    "handle = Entrez.efetch(db=\"nucleotide\", id=gi_list, rettype=\"gb\", retmode=\"text\")\n",
    "\n",
    "dict_of_records = {}\n",
    "fafile = open(directory + \"/collected_records_\" + gene_to_find + \".fasta\", 'w')\n",
    "fafile.write(\"ID\" + \"\\t\" + \"source\" + \"\\t\" + \"organism\" + \"\\n\")\n",
    "\n",
    "for seq_record in SeqIO.parse(handle, \"genbank\"):  # looking for sequencies\n",
    "    description = seq_record.annotations[\"source\"] + \"_\" + seq_record.annotations[\"organism\"] + \"_\" +  seq_record.annotations[\"date\"]\n",
    "    #print(seq_record.id)\n",
    "    dict_of_records[seq_record.id] = [description, seq_record.seq] # loading them into the dictionary\n",
    "    #print(record.format(\"fasta\")) \n",
    "    #print(seq_record.annotations[\"references\"][1])\n",
    "    #print(seq_record.annotations[\"date\"])\n",
    "    #print(seq_record.annotations)\n",
    "    #print(seq_record.seq)\n",
    "    line = seq_record.id + \"\\t\" + seq_record.annotations[\"source\"] + \"\\t\" + seq_record.annotations[\"organism\"] + \"\\n\"\n",
    "    #print(line)\n",
    "    fafile.write(line)\n",
    "fafile.close()\n"
   ]
  },
  {
   "cell_type": "code",
   "execution_count": 30,
   "metadata": {},
   "outputs": [],
   "source": [
    "save_obj(dict_of_records, gene_to_find)  # you can just back up your dictionary"
   ]
  },
  {
   "cell_type": "code",
   "execution_count": 50,
   "metadata": {},
   "outputs": [],
   "source": [
    "dict_of_records = load_obj(gene_to_find)  # or refresh it\n",
    "#print(dict_of_records)"
   ]
  },
  {
   "cell_type": "markdown",
   "metadata": {},
   "source": [
    "Usefull NCBI request script \n",
    "# This assumes you have already run a search as shown above,\n",
    "# and set the variables count, webenv, query_key\n",
    "gi_list = record[\"IdList\"]\n",
    "count = len(gi_list)\n",
    "\n",
    "try:\n",
    "    from urllib.error import HTTPError  # for Python 3\n",
    "except ImportError:\n",
    "    from urllib2 import HTTPError  # for Python 2\n",
    "\n",
    "batch_size = 3\n",
    "out_handle = open(\"out.fasta\", \"w\")\n",
    "for start in range(0, count, batch_size):\n",
    "    end = min(count, start+batch_size)\n",
    "    print(\"Going to download record %i to %i\" % (start+1, end))\n",
    "    attempt = 0\n",
    "    while attempt < 3:\n",
    "        attempt += 1\n",
    "        try:\n",
    "            fetch_handle = Entrez.efetch(db=\"nucleotide\", id=gi_list, rettype=\"gb\", retmode=\"text\", retstart=start, retmax=batch_size,\n",
    "                                         idtype=\"acc\")\n",
    "\n",
    "        except HTTPError as err:\n",
    "            if 500 <= err.code <= 599:\n",
    "                print(\"Received error from server %s\" % err)\n",
    "                print(\"Attempt %i of 3\" % attempt)\n",
    "                time.sleep(15)\n",
    "            else:\n",
    "                raise\n",
    "    data = fetch_handle.read()\n",
    "    fetch_handle.close()\n",
    "    out_handle.write(data)\n",
    "out_handle.close()\n",
    "\n"
   ]
  },
  {
   "cell_type": "code",
   "execution_count": 52,
   "metadata": {},
   "outputs": [],
   "source": [
    "gene_to_find_2 = \"16S[gene]\"  # setting the gene of the interest 2"
   ]
  },
  {
   "cell_type": "code",
   "execution_count": 53,
   "metadata": {
    "scrolled": true
   },
   "outputs": [],
   "source": [
    "handle_2 = Entrez.esearch(db = \"nucleotide\", term = gene_to_find_2, RetMax = 100000)\n",
    "record_2 = Entrez.read(handle_2)\n",
    "#rint(\"Seq names:\", record_2[\"IdList\"])\n",
    "#print(\"\")\n",
    "#print(\"Total:\", record_2[\"Count\"])\n",
    "gi_list_2 = record_2[\"IdList\"]"
   ]
  },
  {
   "cell_type": "code",
   "execution_count": 63,
   "metadata": {
    "scrolled": true
   },
   "outputs": [],
   "source": [
    "gi_list_2 = record_2[\"IdList\"]\n",
    "handle_2 = Entrez.efetch(db=\"nucleotide\", id=gi_list_2, rettype=\"gb\", retmode=\"text\")\n",
    "\n",
    "dict_of_records_2 = {}\n",
    "fafile_2 = open(directory + \"/collected_records_\" + gene_to_find_2 + \".fasta\", 'w')\n",
    "fafile_2.write(\"ID\" + \"\\t\" + \"source\" + \"\\t\" + \"organism\"  + \"\\n\")\n",
    "\n",
    "for seq_record in SeqIO.parse(handle_2, \"genbank\"):\n",
    "    description = seq_record.annotations[\"source\"] + \"_\" + seq_record.annotations[\"organism\"] + \"_\" +  seq_record.annotations[\"date\"]\n",
    "    #print(seq_record.id)\n",
    "    dict_of_records_2[seq_record.id] = [description, seq_record.seq]\n",
    "    #print(record.format(\"fasta\")) \n",
    "    #print(seq_record.annotations[\"references\"])\n",
    "    #print(seq_record.annotations)\n",
    "    #print(seq_record.seq)\n",
    "    line = seq_record.id + \"\\t\" + seq_record.annotations[\"source\"] + \"\\t\" + seq_record.annotations[\"organism\"] + \"\\n\"\n",
    "    #print(line)\n",
    "    fafile_2.write(line)\n",
    "fafile_2.close()\n"
   ]
  },
  {
   "cell_type": "code",
   "execution_count": 31,
   "metadata": {},
   "outputs": [],
   "source": [
    "save_obj(dict_of_records_2, gene_to_find_2)"
   ]
  },
  {
   "cell_type": "code",
   "execution_count": 47,
   "metadata": {},
   "outputs": [],
   "source": [
    "dict_of_records_2 = load_obj(gene_to_find_2)\n",
    "#print(dict_of_records_2)"
   ]
  },
  {
   "cell_type": "code",
   "execution_count": 36,
   "metadata": {},
   "outputs": [
    {
     "name": "stdout",
     "output_type": "stream",
     "text": [
      "['Batrachuperus pinchonii', 'Pseudohynobius puxiongensis', 'Galba truncatula']\n"
     ]
    }
   ],
   "source": [
    "intersection_list = list(set([x[0].split(\"_\")[1] for x in dict_of_records_2.values()]).intersection([x[0].split(\"_\")[1] for x in dict_of_records.values()]))\n",
    "print(intersection_list)  # we can calculate the intersection of two genes in findings"
   ]
  },
  {
   "cell_type": "code",
   "execution_count": 8,
   "metadata": {},
   "outputs": [
    {
     "name": "stdout",
     "output_type": "stream",
     "text": [
      "[]\n"
     ]
    }
   ],
   "source": [
    "intersection_list_2 = list(set([x for x in dict_of_records_2.keys()]).intersection([x for x in dict_of_records.keys()]))\n",
    "print(intersection_list_2)  # a negative control"
   ]
  },
  {
   "cell_type": "code",
   "execution_count": 51,
   "metadata": {},
   "outputs": [
    {
     "name": "stdout",
     "output_type": "stream",
     "text": [
      "Done\n"
     ]
    }
   ],
   "source": [
    "fafile_out = open(directory + \"/collected_records_\" + gene_to_find + \"_\" + gene_to_find_2 + \".fasta\", 'w')\n",
    "fafile_out.write(\"ID\" + \"\\t\" + \"gene\" + \"\\t\" + \"organism\"  + \"\\n\")\n",
    "      \n",
    "intersection_list = list(set([x[0].split(\"_\")[1] for x in dict_of_records_2.values()]).intersection([x[0].split(\"_\")[1] for x in dict_of_records.values()]))\n",
    "#print(intersection_list)\n",
    "zipped = zip([x[0].split(\"_\")[1] for x in dict_of_records.values()], dict_of_records.keys())\n",
    "zipped_2 = zip([x[0].split(\"_\")[1] for x in dict_of_records_2.values()], dict_of_records_2.keys())\n",
    "\n",
    "#!rm files\n",
    "#!mkdir ./files\n",
    "!cd ./files\n",
    "#!pwd\n",
    "\n",
    "\n",
    "for i, j in zipped:\n",
    "    #print(i)\n",
    "    if i in intersection_list:  # selecting records and writing them into merge files and log files\n",
    "        with open(\"./files/\" + str(i) + \"_\" + gene_to_find + '_merged.fasta', 'a') as f:\n",
    "            f.write(\">\" + str(j) + \" \" + str(i) +  \"\\n\")\n",
    "            module_fasta_writer(f, str(dict_of_records[j][1]))\n",
    "        fafile_out.write(\"\\n\")\n",
    "        fafile_out.write(j + \"\\t\" + \"16S\" + \"\\t\" + i  + \"\\n\")\n",
    "        \n",
    "        #print(\"OK\")\n",
    "        \n",
    "for i, j in zipped_2:\n",
    "    if i in intersection_list:\n",
    "        with open(\"./files/\" + str(i) + \"_\" + gene_to_find_2 + '_merged.fasta', 'a') as f:\n",
    "            f.write(\">\" + str(j) + \" \" + str(i) +  \"\\n\")\n",
    "            module_fasta_writer(f, str(dict_of_records_2[j][1]))\n",
    "        fafile_out.write(\"\\n\")\n",
    "        fafile_out.write(j + \"\\t\" + \"CO1\" + \"\\t\" + i  + \"\\n\")\n",
    "        #print(\"OK\")\n",
    "print(\"Done\")"
   ]
  }
 ],
 "metadata": {
  "kernelspec": {
   "display_name": "Python 3",
   "language": "python",
   "name": "python3"
  },
  "language_info": {
   "codemirror_mode": {
    "name": "ipython",
    "version": 3
   },
   "file_extension": ".py",
   "mimetype": "text/x-python",
   "name": "python",
   "nbconvert_exporter": "python",
   "pygments_lexer": "ipython3",
   "version": "3.6.5"
  }
 },
 "nbformat": 4,
 "nbformat_minor": 2
}
