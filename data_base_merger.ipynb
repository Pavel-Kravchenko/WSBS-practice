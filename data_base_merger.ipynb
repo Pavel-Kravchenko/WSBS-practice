{
 "cells": [
  {
   "cell_type": "code",
   "execution_count": 1,
   "metadata": {},
   "outputs": [],
   "source": [
    "import os\n",
    "import re"
   ]
  },
  {
   "cell_type": "code",
   "execution_count": 3,
   "metadata": {},
   "outputs": [],
   "source": [
    "def read_fasta(filename):  # fasta reading module\n",
    "    if os.path.isdir(filename) == False:\n",
    "        with open(filename) as f:\n",
    "            entries = f.read().split('>')[1:]\n",
    "            fasta_list = []\n",
    "            for i in entries:\n",
    "                name = i.split('\\n')[0]\n",
    "                sequence = \"\".join(i.split('\\n')[1:])\n",
    "                line = \"{} {}\".format( name, sequence )\n",
    "                fasta_list.append( line )\n",
    "        return fasta_list"
   ]
  },
  {
   "cell_type": "code",
   "execution_count": 4,
   "metadata": {},
   "outputs": [],
   "source": [
    "len_fasta_out_file = 60\n",
    "def module_fasta_writer(out_file, line):  # writes in fasta format by 60 nums in each line\n",
    "    #print(\"!\", str(line.split(\" \")[0]))\n",
    "    out_file.write(\">\" + str(line.split(\" \")[0]) + \"\\n\")\n",
    "    line = str(line.split(\" \")[1])\n",
    "    start_point = 0\n",
    "    end_point = len_fasta_out_file\n",
    "    if len(line) > len_fasta_out_file:\n",
    "        len_line = len(line)\n",
    "        while len_line > 0:\n",
    "            j = line[start_point:end_point]\n",
    "            len_line = len_line - len_fasta_out_file\n",
    "            out_file.write(j + \"\\n\")\n",
    "            start_point = start_point + len_fasta_out_file\n",
    "            end_point = end_point + len_fasta_out_file\n",
    "    else:\n",
    "        out_file.write(line + \"\\n\")"
   ]
  },
  {
   "cell_type": "code",
   "execution_count": 5,
   "metadata": {},
   "outputs": [],
   "source": [
    "def  merge(fasta_files_list, specie):  # merging module\n",
    "    with open(str(specie) + \"_merged.fasta\", 'a') as f:\n",
    "        for file in fasta_files_list:\n",
    "            if os.path.isdir(file) == False:\n",
    "                #print(file)\n",
    "                fasta_file = read_fasta(file)\n",
    "                #print(fasta_file[0])\n",
    "                module_fasta_writer(f, fasta_file[0])\n",
    "    print(\"merged\")"
   ]
  },
  {
   "cell_type": "code",
   "execution_count": 6,
   "metadata": {},
   "outputs": [],
   "source": [
    "directory = os.getcwd()   # setting working directory"
   ]
  },
  {
   "cell_type": "code",
   "execution_count": 7,
   "metadata": {},
   "outputs": [
    {
     "name": "stdout",
     "output_type": "stream",
     "text": [
      "['data_base_merger.ipynb', 'Metopa alderi', 'Metopa pusilla', 'Acanthonotosoma-inflatum', 'Dyopedos porrectus', 'Crassicorophium bonelli', 'Acanthostepheia malmgreni', '.ipynb_checkpoints', 'Oediceros borealis', 'Gammarus oceanicus', 'Gammarus obtusatus', 'Caprella septentrionalis', 'Themisto libellula', 'Dyopedos bispinus', 'Amphitoe_rubricata', 'Spirontocaris_spinus', 'Socarnes vahlii', 'Hyperia galba', 'Dulichia spinosissima', 'Ericthonius difformis', 'Gammarus duebeni']\n"
     ]
    }
   ],
   "source": [
    "os.chdir(directory)   # scaning surroundings\n",
    "names = os.listdir(path=\".\")\n",
    "print(names)"
   ]
  },
  {
   "cell_type": "code",
   "execution_count": 10,
   "metadata": {},
   "outputs": [
    {
     "name": "stdout",
     "output_type": "stream",
     "text": [
      "Metopa alderi\n",
      "rm: невозможно удалить '*merged.fasta': Нет такого файла или каталога\n",
      "merged\n",
      "ok\n",
      "Metopa pusilla\n",
      "rm: невозможно удалить '*merged.fasta': Нет такого файла или каталога\n",
      "Acanthonotosoma-inflatum\n",
      "rm: невозможно удалить '*merged.fasta': Нет такого файла или каталога\n",
      "merged\n",
      "ok\n",
      "Dyopedos porrectus\n",
      "rm: невозможно удалить '*merged.fasta': Нет такого файла или каталога\n",
      "merged\n",
      "ok\n",
      "Crassicorophium bonelli\n",
      "rm: невозможно удалить '*merged.fasta': Нет такого файла или каталога\n",
      "merged\n",
      "ok\n",
      "Acanthostepheia malmgreni\n",
      "rm: невозможно удалить '*merged.fasta': Нет такого файла или каталога\n",
      "merged\n",
      "ok\n",
      ".ipynb_checkpoints\n",
      "rm: невозможно удалить '*merged.fasta': Нет такого файла или каталога\n",
      "Oediceros borealis\n",
      "rm: невозможно удалить '*merged.fasta': Нет такого файла или каталога\n",
      "Gammarus oceanicus\n",
      "rm: невозможно удалить '*merged.fasta': Нет такого файла или каталога\n",
      "Gammarus obtusatus\n",
      "rm: невозможно удалить '*merged.fasta': Нет такого файла или каталога\n",
      "merged\n",
      "ok\n",
      "Caprella septentrionalis\n",
      "rm: невозможно удалить '*merged.fasta': Нет такого файла или каталога\n",
      "Themisto libellula\n",
      "rm: невозможно удалить '*merged.fasta': Нет такого файла или каталога\n",
      "merged\n",
      "ok\n",
      "Dyopedos bispinus\n",
      "rm: невозможно удалить '*merged.fasta': Нет такого файла или каталога\n",
      "merged\n",
      "ok\n",
      "Amphitoe_rubricata\n",
      "rm: невозможно удалить '*merged.fasta': Нет такого файла или каталога\n",
      "Spirontocaris_spinus\n",
      "rm: невозможно удалить '*merged.fasta': Нет такого файла или каталога\n",
      "Socarnes vahlii\n",
      "rm: невозможно удалить '*merged.fasta': Нет такого файла или каталога\n",
      "merged\n",
      "ok\n",
      "Hyperia galba\n",
      "rm: невозможно удалить '*merged.fasta': Нет такого файла или каталога\n",
      "Dulichia spinosissima\n",
      "rm: невозможно удалить '*merged.fasta': Нет такого файла или каталога\n",
      "merged\n",
      "ok\n",
      "Ericthonius difformis\n",
      "rm: невозможно удалить '*merged.fasta': Нет такого файла или каталога\n",
      "Gammarus duebeni\n",
      "rm: невозможно удалить '*merged.fasta': Нет такого файла или каталога\n",
      "merged\n",
      "ok\n",
      "End!\n"
     ]
    }
   ],
   "source": [
    "for i in names:  # merging .fasta files into one\n",
    "    if os.path.isdir(i) == True:\n",
    "        print(i)\n",
    "        os.chdir(i)\n",
    "        !rm *merged.fasta\n",
    "        names_in_dir = os.listdir(path=\".\")\n",
    "        names_fasta = [x for x in names_in_dir if re.fullmatch(r\".+.fasta\", x)]\n",
    "        if len(names_fasta) >= 4:\n",
    "            #print(names_fasta)\n",
    "            merge(names_fasta, i)\n",
    "            print(\"ok\")\n",
    "        os.chdir(directory)\n",
    "print(\"End!\")"
   ]
  },
  {
   "cell_type": "code",
   "execution_count": 11,
   "metadata": {},
   "outputs": [
    {
     "name": "stdout",
     "output_type": "stream",
     "text": [
      "Metopa alderi\n",
      "ok\n",
      "Metopa pusilla\n",
      "Acanthonotosoma-inflatum\n",
      "ok\n",
      "Dyopedos porrectus\n",
      "ok\n",
      "Crassicorophium bonelli\n",
      "ok\n",
      "Acanthostepheia malmgreni\n",
      "ok\n",
      ".ipynb_checkpoints\n",
      "Oediceros borealis\n",
      "Gammarus oceanicus\n",
      "Gammarus obtusatus\n",
      "ok\n",
      "Caprella septentrionalis\n",
      "Themisto libellula\n",
      "ok\n",
      "Dyopedos bispinus\n",
      "ok\n",
      "Amphitoe_rubricata\n",
      "Spirontocaris_spinus\n",
      "Socarnes vahlii\n",
      "ok\n",
      "Hyperia galba\n",
      "Dulichia spinosissima\n",
      "ok\n",
      "Ericthonius difformis\n",
      "Gammarus duebeni\n",
      "ok\n",
      "End!\n"
     ]
    }
   ],
   "source": [
    "import os, fnmatch, shutil\n",
    "os.chdir(directory)\n",
    "\n",
    "for i in names:\n",
    "    if os.path.isdir(i) == True:\n",
    "        print(i)\n",
    "        os.chdir(i)\n",
    "        names_in_dir = os.listdir(path=\".\")\n",
    "        names_fasta = [x for x in names_in_dir if re.fullmatch(r\".+_merged.fasta\", x)]\n",
    "        if len(names_fasta) == 1:\n",
    "            #rint(names_fasta)\n",
    "            shutil.move(directory + \"/\" + i + \"/\" + names_fasta[0],   \"/home/pavel/Desktop/Work/Project/reader_3.7/Files/\" + names_fasta[0])\n",
    "            print(\"ok\")\n",
    "        os.chdir(directory)\n",
    "print(\"End!\")"
   ]
  }
 ],
 "metadata": {
  "kernelspec": {
   "display_name": "Python 3",
   "language": "python",
   "name": "python3"
  },
  "language_info": {
   "codemirror_mode": {
    "name": "ipython",
    "version": 3
   },
   "file_extension": ".py",
   "mimetype": "text/x-python",
   "name": "python",
   "nbconvert_exporter": "python",
   "pygments_lexer": "ipython3",
   "version": "3.6.5"
  }
 },
 "nbformat": 4,
 "nbformat_minor": 2
}
