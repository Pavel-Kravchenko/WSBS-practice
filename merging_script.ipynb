{
 "cells": [
  {
   "cell_type": "code",
   "execution_count": 53,
   "metadata": {},
   "outputs": [],
   "source": [
    "import os\n",
    "import re"
   ]
  },
  {
   "cell_type": "code",
   "execution_count": 54,
   "metadata": {},
   "outputs": [],
   "source": [
    "def read_fasta(filename):  # fasta reading module\n",
    "    with open(filename) as f:\n",
    "        entries = f.read().split('>')[1:]\n",
    "        fasta_list = []\n",
    "        for i in entries:\n",
    "            name = i.split('\\n')[0]\n",
    "            sequence = \"\".join(i.split('\\n')[1:])\n",
    "            line = \"{} {}\".format( name, sequence )\n",
    "            fasta_list.append( line )\n",
    "    return fasta_list\n",
    "\n",
    "\n",
    "len_fasta_out_file = 60\n",
    "def module_fasta_writer(out_file, line):  # writes in fasta format by 60 nums in each line\n",
    "    start_point = 0\n",
    "    end_point = len_fasta_out_file\n",
    "    if len(line) > len_fasta_out_file:\n",
    "        len_line = len(line)\n",
    "        while len_line > 0:\n",
    "            j = line[start_point:end_point]\n",
    "            len_line = len_line - len_fasta_out_file\n",
    "            out_file.write(j + \"\\n\")\n",
    "            start_point = start_point + len_fasta_out_file\n",
    "            end_point = end_point + len_fasta_out_file\n",
    "    else:\n",
    "        out_file.write(line + \"\\n\")\n",
    "        \n",
    "        \n",
    "def  merge(seq_1, seq_2):  # merging module\n",
    "    seq_1 = read_fasta(i)\n",
    "    #print(seq_1)\n",
    "    seq_2 = read_fasta(j)\n",
    "    #print(seq_2)\n",
    "    \n",
    "    gap = \"-\" * 2 * max(len(str(seq_1[0])), len(str(seq_2[0].split(\" \")[1])))\n",
    "    #print(gap)\n",
    "    seq = str(seq_1[0]) + gap + str(seq_2[0].split(\" \")[1])\n",
    "    #print(seq)\n",
    "    print(\"merged\")\n",
    "    with open(str(i)[:5] + '_16s_co1_merged.fasta', 'w') as f:\n",
    "        f.write(\">\" + str(seq.split(\" \")[0]) + \"\\n\")\n",
    "        module_fasta_writer(f, str(seq.split(\" \")[1]))\n",
    "    with open('../Files/len.txt', 'w') as l:\n",
    "        l.write(\"Len\" + \"\\n\")\n",
    "        l.write(str(max(len(str(seq_1[0])), len(str(seq_2[0].split(\" \")[1])))))"
   ]
  },
  {
   "cell_type": "code",
   "execution_count": 70,
   "metadata": {},
   "outputs": [
    {
     "name": "stdout",
     "output_type": "stream",
     "text": [
      "['WS2349_Spiophanes_uschakowi_Vostok_CO1.fasta', 'WS2348_Spiophanes_uschakowi_Vostok_CO1.fasta', 'WS2365_Spiophanes_bombyx_CO1.fasta', '2365_16S.fasta', '.ipynb_checkpoints', 'WS1459_CO1_CO1.fasta', 'WS2345_Spiophanes_uschakowi_Vostok_CO1.fasta', 'merging_script.ipynb', 'WS2347_Spiophanes_uschakowi_Vostok_CO1.fasta', '2348_16S.fasta', '1459_16S.fasta', 'WS2339_COI_R_G10_WSBS-Seq-24-09_CO1.fasta', '2347_16S.fasta', '2346_16S.fasta', 'WS2346_Spiophanes_uschakowi_Vostok_CO1.fasta', '2339_16S.fasta', '2345_16S.fasta', '2349_16S.fasta']\n"
     ]
    }
   ],
   "source": [
    "names = os.listdir(path=\".\")  # collecting pathes\n",
    "print(names)"
   ]
  },
  {
   "cell_type": "code",
   "execution_count": 41,
   "metadata": {},
   "outputs": [
    {
     "name": "stdout",
     "output_type": "stream",
     "text": [
      "['2172_16S.fasta', '2173_16S.fasta', 'WS2171_16S.fasta']\n",
      "\n",
      "['WS2171_Marenzelleria_arctica_CO1.fasta', 'WS2172_Marenzelleria_arctica_CO1.fasta', 'WS2173_Marenzelleria_arctica_CO1.fasta']\n"
     ]
    }
   ],
   "source": [
    "files_16s = sorted([x for x in names if re.fullmatch(r\".+_16S.fasta\", x)])\n",
    "print(files_16s)\n",
    "print(\"\")\n",
    "files_co1 = sorted([x for x in names if re.fullmatch(r\".+_CO1.fasta\", x)])\n",
    "print(files_co1)"
   ]
  },
  {
   "cell_type": "code",
   "execution_count": 71,
   "metadata": {},
   "outputs": [
    {
     "name": "stdout",
     "output_type": "stream",
     "text": [
      "['1459_16S.fasta', '2339_16S.fasta', '2345_16S.fasta', '2346_16S.fasta', '2347_16S.fasta', '2348_16S.fasta', '2349_16S.fasta', '2365_16S.fasta']\n",
      "\n",
      "['WS1459_CO1_CO1.fasta', 'WS2339_COI_R_G10_WSBS-Seq-24-09_CO1.fasta', 'WS2345_Spiophanes_uschakowi_Vostok_CO1.fasta', 'WS2346_Spiophanes_uschakowi_Vostok_CO1.fasta', 'WS2347_Spiophanes_uschakowi_Vostok_CO1.fasta', 'WS2348_Spiophanes_uschakowi_Vostok_CO1.fasta', 'WS2349_Spiophanes_uschakowi_Vostok_CO1.fasta', 'WS2365_Spiophanes_bombyx_CO1.fasta']\n"
     ]
    }
   ],
   "source": [
    "files_16s = sorted([x for x in names if re.fullmatch(r\".+16S.fa.+\", x)])  # persice collection of files using re \n",
    "print(files_16s)\n",
    "print(\"\")\n",
    "files_co1 = sorted([x for x in names if re.fullmatch(r\".+CO1.fa.+\", x)])\n",
    "print(files_co1)"
   ]
  },
  {
   "cell_type": "code",
   "execution_count": 77,
   "metadata": {},
   "outputs": [
    {
     "name": "stderr",
     "output_type": "stream",
     "text": [
      "rm: невозможно удалить '../Files/out.fasta': Нет такого файла или каталога\n"
     ]
    }
   ],
   "source": [
    "%%bash\n",
    "rm *merged.fasta\n",
    "rm out.fasta\n",
    "rm ../Files/out.fasta"
   ]
  },
  {
   "cell_type": "code",
   "execution_count": 78,
   "metadata": {},
   "outputs": [
    {
     "name": "stdout",
     "output_type": "stream",
     "text": [
      "1459_16S.fasta 1459\n",
      "1459_16S.fasta WS1459_CO1_CO1.fasta\n",
      "merged\n",
      "2339_16S.fasta 2339\n",
      "2339_16S.fasta WS2339_COI_R_G10_WSBS-Seq-24-09_CO1.fasta\n",
      "merged\n",
      "2345_16S.fasta 2345\n",
      "2345_16S.fasta WS2345_Spiophanes_uschakowi_Vostok_CO1.fasta\n",
      "merged\n",
      "2346_16S.fasta 2346\n",
      "2346_16S.fasta WS2346_Spiophanes_uschakowi_Vostok_CO1.fasta\n",
      "merged\n",
      "2347_16S.fasta 2347\n",
      "2347_16S.fasta WS2347_Spiophanes_uschakowi_Vostok_CO1.fasta\n",
      "merged\n",
      "2348_16S.fasta 2348\n",
      "2348_16S.fasta WS2348_Spiophanes_uschakowi_Vostok_CO1.fasta\n",
      "merged\n",
      "2349_16S.fasta 2349\n",
      "2349_16S.fasta WS2349_Spiophanes_uschakowi_Vostok_CO1.fasta\n",
      "merged\n",
      "2365_16S.fasta 2365\n",
      "2365_16S.fasta WS2365_Spiophanes_bombyx_CO1.fasta\n",
      "merged\n"
     ]
    }
   ],
   "source": [
    "if len(files_16s) == len(files_co1):\n",
    "    for i in files_16s:\n",
    "        print(i, str(i)[:4])\n",
    "        for j in files_co1:\n",
    "            #print(str(j)[2:6])\n",
    "            if str(i)[:4] == str(j)[2:6]:\n",
    "                print(i, j)\n",
    "                merge(i, j)"
   ]
  },
  {
   "cell_type": "code",
   "execution_count": 79,
   "metadata": {},
   "outputs": [
    {
     "name": "stdout",
     "output_type": "stream",
     "text": [
      "1459__16s_co1_merged.fasta 2339__16s_co1_merged.fasta 2345__16s_co1_merged.fasta 2346__16s_co1_merged.fasta 2347__16s_co1_merged.fasta 2348__16s_co1_merged.fasta 2349__16s_co1_merged.fasta 2365__16s_co1_merged.fasta\n"
     ]
    }
   ],
   "source": [
    "%%bash \n",
    "f=*_16s_co1_merged.fasta\n",
    "echo $f\n",
    "cat $f >> out.fasta\n",
    "cat $f >> ../Files/Spiophanes_bombyx_4.fasta"
   ]
  }
 ],
 "metadata": {
  "kernelspec": {
   "display_name": "Python 3",
   "language": "python",
   "name": "python3"
  },
  "language_info": {
   "codemirror_mode": {
    "name": "ipython",
    "version": 3
   },
   "file_extension": ".py",
   "mimetype": "text/x-python",
   "name": "python",
   "nbconvert_exporter": "python",
   "pygments_lexer": "ipython3",
   "version": "3.6.5"
  }
 },
 "nbformat": 4,
 "nbformat_minor": 2
}
